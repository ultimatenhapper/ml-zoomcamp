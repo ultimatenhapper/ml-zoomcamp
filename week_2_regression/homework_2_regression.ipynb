{
 "cells": [
  {
   "cell_type": "code",
   "execution_count": 12,
   "id": "f58d0b2e-0374-4bb1-ad64-2fbc838374a1",
   "metadata": {},
   "outputs": [],
   "source": [
    "import pandas as pd\n",
    "import numpy as np\n",
    "import seaborn as sns\n",
    "import matplotlib.pyplot as plt"
   ]
  },
  {
   "cell_type": "code",
   "execution_count": 13,
   "id": "dbdb7f9d-a2bc-46c7-b3ea-7b0fd71817dc",
   "metadata": {},
   "outputs": [],
   "source": [
    "laptops_df = pd.read_csv('https://raw.githubusercontent.com/alexeygrigorev/datasets/master/laptops.csv')"
   ]
  },
  {
   "cell_type": "code",
   "execution_count": 14,
   "id": "36d36c41-9716-40ec-8126-ee0de806673f",
   "metadata": {},
   "outputs": [],
   "source": [
    "laptops_df.columns = laptops_df.columns.str.lower().str.replace(' ', '_')\n"
   ]
  },
  {
   "cell_type": "code",
   "execution_count": 15,
   "id": "bea99b3b-bd50-4a18-b37b-8f7ec1493f03",
   "metadata": {},
   "outputs": [],
   "source": [
    "laptops_df = laptops_df[['ram', 'storage', 'screen', 'final_price']]\n"
   ]
  },
  {
   "cell_type": "code",
   "execution_count": 16,
   "id": "9a9092fc-9673-490e-b646-6975b3a7a736",
   "metadata": {},
   "outputs": [
    {
     "data": {
      "text/plain": [
       "<Axes: xlabel='final_price', ylabel='Count'>"
      ]
     },
     "execution_count": 16,
     "metadata": {},
     "output_type": "execute_result"
    },
    {
     "data": {
      "image/png": "[encoded data removed]",
      "text/plain": [
       "<Figure size 640x480 with 1 Axes>"
      ]
     },
     "metadata": {},
     "output_type": "display_data"
    }
   ],
   "source": [
    "sns.histplot(laptops_df['final_price'])"
   ]
  },
  {
   "cell_type": "code",
   "execution_count": 17,
   "id": "9c4300e2-2600-48fc-854f-cde56750695a",
   "metadata": {},
   "outputs": [
    {
     "data": {
      "text/plain": [
       "ram            0\n",
       "storage        0\n",
       "screen         4\n",
       "final_price    0\n",
       "dtype: int64"
      ]
     },
     "execution_count": 17,
     "metadata": {},
     "output_type": "execute_result"
    }
   ],
   "source": [
    "laptops_df.isna().sum()"
   ]
  },
  {
   "cell_type": "code",
   "execution_count": 18,
   "id": "4c689b70-47cb-4080-b5fc-54fd5c12af7e",
   "metadata": {},
   "outputs": [
    {
     "data": {
      "text/plain": [
       "16.0"
      ]
     },
     "execution_count": 18,
     "metadata": {},
     "output_type": "execute_result"
    }
   ],
   "source": [
    "laptops_df['ram'].median()"
   ]
  },
  {
   "cell_type": "code",
   "execution_count": 19,
   "id": "e40fd13b-3105-4d76-9140-1b57e51002c7",
   "metadata": {},
   "outputs": [
    {
     "data": {
      "text/plain": [
       "2160"
      ]
     },
     "execution_count": 19,
     "metadata": {},
     "output_type": "execute_result"
    }
   ],
   "source": [
    "len(laptops_df)"
   ]
  },
  {
   "cell_type": "code",
   "execution_count": 20,
   "id": "16b9ddad-9b81-423e-9963-752ae688d497",
   "metadata": {},
   "outputs": [],
   "source": [
    "np.random.seed(42)\n",
    "\n",
    "n = len(laptops_df)\n",
    "\n",
    "n_val = int(0.2 * n)\n",
    "n_test = int(0.2 * n)\n",
    "n_train = n - (n_val + n_test)\n",
    "\n",
    "idx = np.arange(n)\n",
    "np.random.shuffle(idx)\n",
    "\n",
    "df_shuffled = laptops_df.iloc[idx]\n",
    "\n",
    "df_train = df_shuffled.iloc[:n_train].copy()\n",
    "df_val = df_shuffled.iloc[n_train:n_train+n_val].copy()\n",
    "df_test = df_shuffled.iloc[n_train+n_val:].copy()"
   ]
  },
  {
   "cell_type": "code",
   "execution_count": 21,
   "id": "8c6c1cfb-f14d-4b8e-84d7-2d8573e1cd17",
   "metadata": {},
   "outputs": [],
   "source": [
    "y_train_orig = df_train.final_price.values\n",
    "y_val_orig = df_val.final_price.values\n",
    "y_test_orig = df_test.final_price.values\n",
    "\n",
    "y_train = np.log1p(df_train.final_price.values)\n",
    "y_val = np.log1p(df_val.final_price.values)\n",
    "y_test = np.log1p(df_test.final_price.values)\n",
    "\n",
    "del df_train['final_price']\n",
    "del df_val['final_price']\n",
    "del df_test['final_price']"
   ]
  },
  {
   "cell_type": "code",
   "execution_count": 22,
   "id": "ff5c4093-08c2-43d6-8a14-30b1152091b8",
   "metadata": {},
   "outputs": [
    {
     "data": {
      "text/plain": [
       "ram        0\n",
       "storage    0\n",
       "screen     3\n",
       "dtype: int64"
      ]
     },
     "execution_count": 22,
     "metadata": {},
     "output_type": "execute_result"
    }
   ],
   "source": [
    "df_train.isnull().sum()"
   ]
  },
  {
   "cell_type": "markdown",
   "id": "e7352d51-100e-4efd-9dd0-d6660c8361c6",
   "metadata": {},
   "source": [
    "## Linear Regression"
   ]
  },
  {
   "cell_type": "code",
   "execution_count": 23,
   "id": "1820a6ca-b034-4cb8-a851-e64b7008d8cc",
   "metadata": {},
   "outputs": [],
   "source": [
    "def train_linear_regression(X, y):\n",
    "    ones = np.ones(X.shape[0])\n",
    "    X = np.column_stack([ones, X])\n",
    "\n",
    "    XTX = X.T.dot(X)\n",
    "    XTX_inv = np.linalg.inv(XTX)\n",
    "    w = XTX_inv.dot(X.T).dot(y)\n",
    "    \n",
    "    return w[0], w[1:]"
   ]
  },
  {
   "cell_type": "code",
   "execution_count": 24,
   "id": "a99a93aa-049b-405c-9ac0-2e745298d4e2",
   "metadata": {},
   "outputs": [],
   "source": [
    "base = ['ram', 'storage', 'screen']"
   ]
  },
  {
   "cell_type": "code",
   "execution_count": 25,
   "id": "bd5ea471-fa47-439c-9f22-26ad0cea33ab",
   "metadata": {},
   "outputs": [],
   "source": [
    "def prepare_X(df, mean = None):\n",
    "    df_num = df[base]\n",
    "    df_num = df_num.fillna(0)\n",
    "    if mean:\n",
    "        df_num = df_num.fillna(mean)\n",
    "    X = df_num.values\n",
    "    \n",
    "    return X"
   ]
  },
  {
   "cell_type": "code",
   "execution_count": 26,
   "id": "1c3455f4-2d14-4a3d-b7d7-6c7a4151ebac",
   "metadata": {},
   "outputs": [],
   "source": [
    "X_train = prepare_X(df_train)\n",
    "w_0, w = train_linear_regression(X_train, y_train_orig)"
   ]
  },
  {
   "cell_type": "code",
   "execution_count": 27,
   "id": "5d48f165-0f4c-4bc4-b616-95c9318af964",
   "metadata": {},
   "outputs": [],
   "source": [
    "y_pred = w_0 + X_train.dot(w)"
   ]
  },
  {
   "cell_type": "code",
   "execution_count": 28,
   "id": "02966c84-6873-4148-865a-0c57cab2d17b",
   "metadata": {},
   "outputs": [
    {
     "data": {
      "image/png": "[encoded data removed]",
      "text/plain": [
       "<Figure size 600x400 with 1 Axes>"
      ]
     },
     "metadata": {},
     "output_type": "display_data"
    }
   ],
   "source": [
    "plt.figure(figsize=(6, 4))\n",
    "\n",
    "sns.histplot(y_train_orig, label='target', color='#222222', alpha=0.6, bins=40)\n",
    "sns.histplot(y_pred, label='prediction', color='#aaaaaa', alpha=0.8, bins=40)\n",
    "\n",
    "plt.legend()\n",
    "\n",
    "plt.ylabel('Frequency')\n",
    "plt.xlabel('Log(Price + 1)')\n",
    "plt.title('Predictions vs actual distribution')\n",
    "\n",
    "plt.show()"
   ]
  },
  {
   "cell_type": "code",
   "execution_count": 29,
   "id": "1678406b-cca8-4f36-a83f-1502ab03cc8c",
   "metadata": {},
   "outputs": [],
   "source": [
    "def rmse(y, y_pred):\n",
    "    error = y_pred - y\n",
    "    mse = (error ** 2).mean()\n",
    "    return np.sqrt(mse)"
   ]
  },
  {
   "cell_type": "code",
   "execution_count": 30,
   "id": "6659d9af-181b-408e-9b5f-ddeef7c20fb5",
   "metadata": {},
   "outputs": [
    {
     "data": {
      "text/plain": [
       "602.3920520606714"
      ]
     },
     "execution_count": 30,
     "metadata": {},
     "output_type": "execute_result"
    }
   ],
   "source": [
    "rmse(y_train_orig, y_pred)"
   ]
  },
  {
   "cell_type": "code",
   "execution_count": 31,
   "id": "99c51a6a-48b6-4718-9d51-dbf3611773fa",
   "metadata": {},
   "outputs": [
    {
     "data": {
      "text/plain": [
       "597.3635593619636"
      ]
     },
     "execution_count": 31,
     "metadata": {},
     "output_type": "execute_result"
    }
   ],
   "source": [
    "X_val = prepare_X(df_val)\n",
    "y_pred = w_0 + X_val.dot(w)\n",
    "rmse(y_val_orig, y_pred)"
   ]
  },
  {
   "cell_type": "markdown",
   "id": "1240df94-5995-4e4e-9d43-09293030fca8",
   "metadata": {},
   "source": [
    "## Regularization"
   ]
  },
  {
   "cell_type": "code",
   "execution_count": 32,
   "id": "254c87f4-e4c1-4d55-b63f-872bced02914",
   "metadata": {},
   "outputs": [],
   "source": [
    "def train_linear_regression_reg(X, y, r=0.0):\n",
    "    ones = np.ones(X.shape[0])\n",
    "    X = np.column_stack([ones, X])\n",
    "\n",
    "    XTX = X.T.dot(X)\n",
    "    reg = r * np.eye(XTX.shape[0])\n",
    "    XTX = XTX + reg\n",
    "\n",
    "    XTX_inv = np.linalg.inv(XTX)\n",
    "    w = XTX_inv.dot(X.T).dot(y)\n",
    "    \n",
    "    return w[0], w[1:]"
   ]
  },
  {
   "cell_type": "code",
   "execution_count": 33,
   "id": "bd2c01aa-78b1-4b49-a81e-6a2b567f200d",
   "metadata": {},
   "outputs": [],
   "source": [
    "X_train = prepare_X(df_train)\n",
    "X_val = prepare_X(df_val)"
   ]
  },
  {
   "cell_type": "code",
   "execution_count": 35,
   "id": "d409e123-1bdf-4f08-af39-fd2d9063ebfc",
   "metadata": {},
   "outputs": [
    {
     "name": "stdout",
     "output_type": "stream",
     "text": [
      "     0 0.4288635315474399\n",
      "  0.01 0.428851636053407\n",
      "     1 0.43059329897431\n",
      "    10 0.5075657769236755\n",
      "   100 0.6735026061726037\n"
     ]
    }
   ],
   "source": [
    "for r in [0, 0.01, 1, 10, 100]:\n",
    "    w_0, w = train_linear_regression_reg(X_train, y_train, r=r)\n",
    "    y_pred = w_0 + X_val.dot(w)\n",
    "    print('%6s' %r, rmse(y_val, y_pred))"
   ]
  },
  {
   "cell_type": "markdown",
   "id": "a4d884a3-ffa1-4f41-9cfc-ca3df8b307b7",
   "metadata": {},
   "source": [
    "### CHECKING THE RMSE SCORES:"
   ]
  },
  {
   "cell_type": "code",
   "execution_count": 40,
   "id": "afe35ecb-deb9-42b9-a8d8-1c1866a76169",
   "metadata": {},
   "outputs": [
    {
     "name": "stdout",
     "output_type": "stream",
     "text": [
      "0 547.5696230193458 565.45\n",
      "1 594.4197428009816 636.8\n",
      "2 649.4685454776857 588.96\n",
      "3 571.9459040120524 597.81\n",
      "4 629.3882030653069 571.96\n",
      "5 580.7647373338308 573.24\n",
      "6 783.768368991956 647.34\n",
      "7 376.43586006318003 550.44\n",
      "8 572.8852361205966 587.33\n",
      "9 663.3792792620178 576.1\n",
      "29.176\n"
     ]
    }
   ],
   "source": [
    "\n",
    "rmse_list = []\n",
    "\n",
    "for r in [0, 1, 2, 3, 4, 5, 6, 7, 8, 9]:\n",
    "\n",
    "    idx = np.arange(n)\n",
    "    np.random.seed(r)\n",
    "    np.random.shuffle(idx)\n",
    "\n",
    "    df_shuffled = laptops_df.iloc[idx]\n",
    "    \n",
    "    df_train = df_shuffled.iloc[:n_train].copy()\n",
    "    df_val = df_shuffled.iloc[n_train:n_train+n_val].copy()\n",
    "    df_test = df_shuffled.iloc[n_train+n_val:].copy()\n",
    "\n",
    "    df_train = df_train.reset_index(drop=True)\n",
    "    df_val = df_val.reset_index(drop=True)\n",
    "    df_test = df_test.reset_index(drop=True)\n",
    "    \n",
    "    y_train = df_train.final_price.values\n",
    "    y_val = df_val.final_price.values\n",
    "    y_test = df_test.final_price.values\n",
    "    \n",
    "    del df_train['final_price']\n",
    "    del df_val['final_price']\n",
    "    del df_test['final_price']\n",
    "    \n",
    "    X_train = prepare_X(df_train)\n",
    "    w_0, w = train_linear_regression(X_train, y_train)\n",
    "    \n",
    "    X_val = prepare_X(df_val)\n",
    "    y_reg_val = w_0 + X_val.dot(w)\n",
    "    rmse_val = np.round(rmse(y_val, y_reg_val),2)\n",
    "    \n",
    "    rmse_list.append(rmse_val)\n",
    "    \n",
    "    print(r, w_0, rmse_val)\n",
    "\n",
    "print(round(np.std(rmse_list), 3))\n",
    "     "
   ]
  },
  {
   "cell_type": "code",
   "execution_count": 44,
   "id": "7772ee6c-508a-4951-a2ce-a79d665388eb",
   "metadata": {},
   "outputs": [],
   "source": [
    "idx = np.arange(n)\n",
    "np.random.seed(r)\n",
    "np.random.shuffle(idx)\n",
    "\n",
    "df_shuffled = laptops_df.iloc[idx]\n",
    "\n",
    "df_train = df_shuffled.iloc[:n_train].copy()\n",
    "df_val = df_shuffled.iloc[n_train:n_train+n_val].copy()\n",
    "df_test = df_shuffled.iloc[n_train+n_val:].copy()\n",
    "df_concat = pd.concat([df_train, df_val])\n",
    "\n",
    "df_train = df_train.reset_index(drop=True)\n",
    "df_val = df_val.reset_index(drop=True)\n",
    "df_test = df_test.reset_index(drop=True)\n",
    "df_concat = df_concat.reset_index(drop=True)\n",
    "\n",
    "y_test = df_test.final_price.values\n",
    "y_concat = df_concat.final_price.values\n",
    "\n",
    "del df_test['final_price']\n",
    "del df_concat['final_price']\n",
    "\n",
    "X_concat = prepare_X(df_concat)\n",
    "w_0, w = train_linear_regression_reg(X_concat, y_concat, r=0.001)\n",
    "\n",
    "X_test = prepare_X(df_test)\n",
    "y_reg_test = w_0 + X_test.dot(w)\n",
    "rmse_test = np.round(rmse(y_test, y_reg_test),2)"
   ]
  },
  {
   "cell_type": "code",
   "execution_count": 45,
   "id": "7fe79d07-8c00-47bb-b58b-081c7c54a73c",
   "metadata": {},
   "outputs": [
    {
     "data": {
      "text/plain": [
       "608.61"
      ]
     },
     "execution_count": 45,
     "metadata": {},
     "output_type": "execute_result"
    }
   ],
   "source": [
    "rmse_test"
   ]
  },
  {
   "cell_type": "code",
   "execution_count": null,
   "id": "6aa41741-d7d8-46b9-b320-bbb006a64c3c",
   "metadata": {},
   "outputs": [],
   "source": []
  }
 ],
 "metadata": {
  "kernelspec": {
   "display_name": "Python 3 (ipykernel)",
   "language": "python",
   "name": "python3"
  },
  "language_info": {
   "codemirror_mode": {
    "name": "ipython",
    "version": 3
   },
   "file_extension": ".py",
   "mimetype": "text/x-python",
   "name": "python",
   "nbconvert_exporter": "python",
   "pygments_lexer": "ipython3",
   "version": "3.11.9"
  }
 },
 "nbformat": 4,
 "nbformat_minor": 5
}
